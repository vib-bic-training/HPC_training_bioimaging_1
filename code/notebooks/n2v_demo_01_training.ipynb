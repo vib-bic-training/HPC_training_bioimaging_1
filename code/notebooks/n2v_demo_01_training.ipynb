{
 "cells": [
  {
   "cell_type": "markdown",
   "metadata": {},
   "source": [
    "# Noise2Void - 2D Example for SEM data\n",
    "\n",
    "Strongly inspired from https://github.com/juglab/n2v/tree/main/examples/2D/denoising2D_SEM"
   ]
  },
  {
   "cell_type": "code",
   "execution_count": 63,
   "metadata": {},
   "outputs": [],
   "source": [
    "# We import all our dependencies.\n",
    "from n2v.models import N2VConfig, N2V\n",
    "import numpy as np\n",
    "from csbdeep.utils import plot_history\n",
    "from n2v.utils.n2v_utils import manipulate_val_data\n",
    "from n2v.internals.N2V_DataGenerator import N2V_DataGenerator\n",
    "from matplotlib import pyplot as plt\n",
    "import urllib\n",
    "import os\n",
    "import zipfile\n",
    "\n",
    "import ssl\n",
    "ssl._create_default_https_context = ssl._create_unverified_context"
   ]
  },
  {
   "cell_type": "markdown",
   "metadata": {},
   "source": [
    "## Download Example Data\n",
    "\n",
    "Data by Anneke Kremer\n",
    "Thanks!\n"
   ]
  },
  {
   "cell_type": "code",
   "execution_count": 64,
   "metadata": {},
   "outputs": [],
   "source": [
    "# List the files to analyze\n",
    "input_folder = '/dodrio/scratch/projects/2024_300/training/n2v/'\n",
    "output_folder = '/dodrio/scratch/projects/2024_300/<YOUR_NAME>/n2v' #TO CHANGE\n",
    "os.makedirs(output_folder, exist_ok=True)\n",
    "model_folder = os.path.join(output_folder, 'model')\n",
    "os.makedirs(model_folder, exist_ok=True)"
   ]
  },
  {
   "cell_type": "markdown",
   "metadata": {},
   "source": [
    "# Training Data Preparation\n",
    "\n",
    "For training we load **one** set of low-SNR images and use the N2V_DataGenerator to extract training **X** and validation **X_val** patches.\n"
   ]
  },
  {
   "cell_type": "code",
   "execution_count": 65,
   "metadata": {},
   "outputs": [],
   "source": [
    "training_path = os.path.join(input_folder, 'training')"
   ]
  },
  {
   "cell_type": "code",
   "execution_count": 66,
   "metadata": {},
   "outputs": [],
   "source": [
    "# We create our DataGenerator-object.\n",
    "# It will help us load data and extract patches for training and validation.\n",
    "datagen = N2V_DataGenerator()"
   ]
  },
  {
   "cell_type": "code",
   "execution_count": null,
   "metadata": {},
   "outputs": [],
   "source": [
    "# We load all the '.tif' files from the 'data' directory.\n",
    "# If you want to load other types of files see the RGB example.\n",
    "# The function will return a list of images (numpy arrays).\n",
    "imgs = datagen.load_imgs_from_directory(directory = training_path)\n",
    "\n",
    "# Let's look at the shape of the images.\n",
    "print(imgs[0].shape,imgs[1].shape)\n",
    "# The function automatically added two extra dimensions to the images:\n",
    "# One at the beginning, is used to hold a potential stack of images such as a movie.\n",
    "# One at the end, represents channels."
   ]
  },
  {
   "cell_type": "code",
   "execution_count": null,
   "metadata": {},
   "outputs": [],
   "source": [
    "# Lets' look at the images.\n",
    "# We have to remove the added extra dimensions to display them as 2D images.\n",
    "plt.imshow(imgs[0][0,...,0], cmap='gray')\n",
    "plt.show()\n",
    "\n",
    "plt.imshow(imgs[1][0,...,0], cmap='gray')\n",
    "plt.show()"
   ]
  },
  {
   "cell_type": "code",
   "execution_count": null,
   "metadata": {},
   "outputs": [],
   "source": [
    "# We will use the first 2 images to extract training patches and store them in 'X'\n",
    "patch_shape = (64, 64)\n",
    "X = datagen.generate_patches_from_list(imgs[:2], shape=patch_shape)\n",
    "\n",
    "# We will use the third image to extract validation patches.\n",
    "X_val = datagen.generate_patches_from_list(imgs[2:], shape=patch_shape)\n",
    "\n",
    "# Patches are created so they do not overlap.\n",
    "# (Note: this is not the case if you specify a number of patches. See the docstring for details!)\n",
    "# Non-overlapping patches would also allow us to split them into a training and validation set \n",
    "# per image. This might be an interesting alternative to the split we performed above."
   ]
  },
  {
   "cell_type": "code",
   "execution_count": null,
   "metadata": {},
   "outputs": [],
   "source": [
    "# Just in case you don't know how to access the docstring of a method:\n",
    "datagen.generate_patches_from_list?"
   ]
  },
  {
   "cell_type": "code",
   "execution_count": null,
   "metadata": {},
   "outputs": [],
   "source": [
    "# Let's look at one of our training and validation patches.\n",
    "plt.figure(figsize=(14,7))\n",
    "plt.subplot(1,2,1)\n",
    "plt.imshow(X[0,...,0], cmap='gray')\n",
    "plt.title('Training Patch')\n",
    "plt.subplot(1,2,2)\n",
    "plt.imshow(X_val[0,...,0], cmap='gray')\n",
    "plt.title('Validation Patch')"
   ]
  },
  {
   "cell_type": "markdown",
   "metadata": {},
   "source": [
    "\n",
    "## Configure\n",
    "\n",
    "Noise2Void comes with a special config-object, where we store network-architecture and training specific parameters. See the docstring of the `N2VConfig` constructor for a description of all parameters.\n",
    "\n",
    "When creating the config-object, we provide the training data **X**. From **X** we extract `mean` and `std` that will be used to normalize all data before it is processed by the network. We also extract the dimensionality and number of channels from **X**.\n",
    "\n",
    "Compared to supervised training (i.e. traditional CARE), we recommend to use N2V with an increased `train_batch_size` and `batch_norm`. To keep the network from learning the identity we have to manipulate the input pixels during training. For this we have the parameter `n2v_manipulator` with default value `'uniform_withCP'`. Most pixel manipulators will compute the replacement value based on a neighborhood. With `n2v_neighborhood_radius` we can control its `size`.\n",
    "\n",
    "Other pixel manipulators:\n",
    "\n",
    "    normal_withoutCP: samples the neighborhood according to a normal gaussian distribution, but without the center pixel\n",
    "    normal_additive: adds a random number to the original pixel value. The random number is sampled from a gaussian distribution with zero-mean and sigma = `n2v_neighborhood_radius`\n",
    "    normal_fitted: uses a random value from a gaussian normal distribution with mean equal to the mean of the neighborhood and standard deviation equal to the standard deviation of the neighborhood.\n",
    "    identity: performs no pixel manipulation\n",
    "\n",
    "For faster training multiple pixels per input patch can be manipulated. In our experiments we manipulated about 0.198% of the input pixels per patch. For a patch size of 64 by 64 pixels this corresponds to about 8 pixels. This fraction can be tuned via `n2v_perc_pix`.\n",
    "\n",
    "For Noise2Void training it is possible to pass arbitrarily large patches to the training method. From these patches random subpatches of size n2v_patch_shape are extracted during training. Default patch shape is set to (64, 64).\n",
    "\n",
    "In the past we experienced bleedthrough artifacts between channels if training was terminated to early. To counter bleedthrough we added the `single_net_per_channel` option, which is turned on by default. In the back a single U-Net for each channel is created and trained independently, thereby removing the possiblity of bleedthrough.\n",
    "*Note:* Essentially the network gets multiplied by the number of channels, which increases the memory requirements. If your GPU gets too small, you can always split the channels manually and train a network for each channel one after another.\n",
    "\n",
    "*Warning:* to make this example notebook execute faster, we have set train_epochs to only *20*.\n",
    "For better results we suggest *100* to *200* `train_epochs`.\n"
   ]
  },
  {
   "cell_type": "code",
   "execution_count": 72,
   "metadata": {},
   "outputs": [],
   "source": [
    "train_epochs = 20"
   ]
  },
  {
   "cell_type": "code",
   "execution_count": null,
   "metadata": {},
   "outputs": [],
   "source": [
    "# train_steps_per_epoch is set to (number of training patches)/(batch size), like this each training patch \n",
    "# is shown once per epoch. \n",
    "config = N2VConfig(X, unet_kern_size=3, \n",
    "                   train_steps_per_epoch=int(X.shape[0]/128), train_epochs=train_epochs, train_loss='mse', batch_norm=True, \n",
    "                   train_batch_size=128, n2v_perc_pix=0.198, n2v_patch_shape=(64, 64), \n",
    "                   n2v_manipulator='uniform_withCP', n2v_neighborhood_radius=5)\n",
    "\n",
    "# Let's look at the parameters stored in the config-object.\n",
    "vars(config)"
   ]
  },
  {
   "cell_type": "code",
   "execution_count": 74,
   "metadata": {},
   "outputs": [],
   "source": [
    "# a name used to identify the model\n",
    "model_name = 'n2v_2D_sem'\n",
    "# the base directory in which our model will live\n",
    "#basedir = 'models'\n",
    "# We are now creating our network model.\n",
    "model = N2V(config, model_name, basedir=model_folder)"
   ]
  },
  {
   "cell_type": "markdown",
   "metadata": {},
   "source": [
    "## Training\n",
    "\n",
    "Training the model will likely take some time. We recommend to monitor the progress with TensorBoard, which allows you to inspect the losses during training. Furthermore, you can look at the predictions for some of the validation images, which can be helpful to recognize problems early on.\n",
    "\n",
    "You can start TensorBoard in a terminal from the current working directory with tensorboard --logdir=. Then connect to http://localhost:6006/ with your browser.\n"
   ]
  },
  {
   "cell_type": "code",
   "execution_count": null,
   "metadata": {},
   "outputs": [],
   "source": [
    "# We are ready to start training now.\n",
    "history = model.train(X, X_val)"
   ]
  },
  {
   "cell_type": "markdown",
   "metadata": {},
   "source": [
    "## After training, lets plot training and validation loss."
   ]
  },
  {
   "cell_type": "code",
   "execution_count": 76,
   "metadata": {},
   "outputs": [
    {
     "name": "stdout",
     "output_type": "stream",
     "text": [
      "['loss', 'lr', 'n2v_abs', 'n2v_mse', 'val_loss', 'val_n2v_abs', 'val_n2v_mse']\n"
     ]
    },
    {
     "data": {
      "image/png": "[encoded data removed]",
      "text/plain": [
       "<Figure size 1600x500 with 1 Axes>"
      ]
     },
     "metadata": {},
     "output_type": "display_data"
    }
   ],
   "source": [
    "print(sorted(list(history.history.keys())))\n",
    "plt.figure(figsize=(16,5))\n",
    "plot_history(history,['loss','val_loss']);"
   ]
  },
  {
   "cell_type": "markdown",
   "metadata": {},
   "source": [
    "## Export Model in BioImage ModelZoo Format\n",
    "See https://imagej.net/N2V#Prediction for details."
   ]
  },
  {
   "cell_type": "code",
   "execution_count": null,
   "metadata": {},
   "outputs": [],
   "source": [
    "model_bioimage_folder = os.path.join(model_folder, 'bioimage_model_zoo')\n",
    "os.makedirs(model_bioimage_folder, exist_ok=True)\n",
    "\n",
    "\n",
    "model.export_TF(name='Noise2Void - 2D SEM Example', \n",
    "                description='This is the 2D Noise2Void example trained on SEM data in python.', \n",
    "                authors=[\"Your Name\", \"Another Name\"],\n",
    "                test_img=X_val[0,...], axes='YXC',\n",
    "                patch_shape=patch_shape,\n",
    "                result_path = model_bioimage_folder)"
   ]
  }
 ],
 "metadata": {
  "kernelspec": {
   "display_name": "n2v_env",
   "language": "python",
   "name": "python3"
  },
  "language_info": {
   "codemirror_mode": {
    "name": "ipython",
    "version": 3
   },
   "file_extension": ".py",
   "mimetype": "text/x-python",
   "name": "python",
   "nbconvert_exporter": "python",
   "pygments_lexer": "ipython3",
   "version": "3.10.13"
  }
 },
 "nbformat": 4,
 "nbformat_minor": 2
}
